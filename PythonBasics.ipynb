{
  "nbformat": 4,
  "nbformat_minor": 0,
  "metadata": {
    "colab": {
      "provenance": []
    },
    "kernelspec": {
      "name": "python3",
      "display_name": "Python 3"
    },
    "language_info": {
      "name": "python"
    }
  },
  "cells": [
    {
      "cell_type": "code",
      "execution_count": null,
      "metadata": {
        "id": "yCqOueNheqIP"
      },
      "outputs": [],
      "source": []
    },
    {
      "cell_type": "markdown",
      "source": [
        "#Python Basics\n",
        "\n"
      ],
      "metadata": {
        "id": "IIzJYzFPe99J"
      }
    },
    {
      "cell_type": "markdown",
      "source": [
        "1. What is Python, and why is it popular?\n",
        "   \n",
        "    - Python is a high-level, interpreted programming language known for its simplicity and readability. It supports multiple programming paradigms, including procedural, object-oriented, and functional programming.\n",
        "\n",
        "    It is popular because of the following reasons:\n",
        "\n",
        "    i) Easy to Learn & Use – Simple syntax similar to English makes it  \n",
        "       beginner-friendly.\n",
        "\n",
        "    ii) Versatile - Used in web development, data science, AI, automation, and more.\n",
        "\n",
        "    iii) Large Community & Libraries - Extensive support and pre-built modules simplify development.\n",
        "\n",
        "    iv) Cross-Platform - Runs on Windows, macOS, and Linux without modification.\n",
        "\n",
        "    iv) Rapid Development - Faster prototyping due to concise code structure.\n",
        "\n",
        "\n",
        "  2. What is an interpreter in Python?\n",
        "\n",
        "    - An interpreter is a program that executes Python code line by line. It converts human-readable Python code into machine code at runtime\n",
        "\n",
        "  3. What are pre-defined keywords in Python?\n",
        "\n",
        "      - Predefined Keywords in Python\n",
        "Predefined keywords in Python are reserved words that have special meanings and cannot be used as variable names, function names, or identifiers. These keywords define the syntax and structure of Python programs.\n",
        "\n",
        "    some commonly used python keywords are :\n",
        "\n",
        "    False, None, True, and, as, assert, async, await, break, class, continue, def, del, elif, else, except, finally, for, from, global, if, import, in, is, lambda, nonlocal, not, or, pass, raise, return, try, while, with, yield.\n",
        "\n",
        "\n",
        "  4. Can keywords be used as variable names?\n",
        "\n",
        "      - No, keywords cannot be used as variable names in Python. Since keywords have predefined meanings, using them as variable names would cause a syntax error.\n",
        "\n",
        "  5.  What is mutability in Python?\n",
        "\n",
        "      - Mutability in Python refers to whether an object's value can be changed after it is created.\n",
        "      Lists, dictionaries and sets are some examples of mutability .\n",
        "\n",
        "  6.  Why are lists mutable, but tuples are immutable?\n",
        "\n",
        "      - Lists are mutable, while tuples are immutable, because of their internal memory structure and design in Python.\n",
        "\n",
        "        i. Memory Allocation :\n",
        "        Lists store references to their elements, allowing modifications (adding, removing, or changing elements).\n",
        "\n",
        "        Tuples store elements in a fixed memory structure, preventing any changes after creation.\n",
        "\n",
        "        ii.Performance Optimization :\n",
        "        Tuples are optimized for speed and take less memory since they don't allow modifications.\n",
        "\n",
        "        Lists are flexible but slightly slower due to their dynamic nature.\n",
        "\n",
        "  7.    What is the difference between “==” and “is” operators in Python?\n",
        "\n",
        "      - In Python, == and is are comparison operators, but they serve different purposes:\n",
        "\n",
        "          i. == (Equality Operator)\n",
        "          Compares values of two objects.\n",
        "\n",
        "          Returns True if the values are the same, regardless of whether they are stored at different memory locations.\n",
        "          example :  a = [1, 2, 3]\n",
        "          b = [1, 2, 3]\n",
        "          print(a == b)  # ✅ True (because values are the same)\n",
        "\n",
        "          ii. is (Identity Operator)\n",
        "          Compares memory locations (object identity).\n",
        "\n",
        "          Returns True only if both variables refer to the same object in memory.\n",
        "          example :\n",
        "\n",
        "          a = [1, 2, 3]\n",
        "          b = [1, 2, 3]\n",
        "          print(a is b)  # ❌ False (because they are different objects in memory)\n",
        "\n",
        "          c = a  # Assigning the same reference\n",
        "          print(a is c)  # ✅ True (both refer to the same object)\n",
        "\n",
        "  8.    What are logical operators in Python?\n",
        "\n",
        "        - Logical Operators in Python\n",
        "Logical operators are used to combine multiple conditions and return a Boolean result (True or False).\n",
        "\n",
        "i. and (Logical AND)\n",
        "Returns True only if both conditions are True.\n",
        "\n",
        "Otherwise, returns False.\n",
        "\n",
        "example :\n",
        "a = 5\n",
        "b = 10\n",
        "print(a > 0 and b > 5)  # ✅ True (both conditions are True)\n",
        "print(a > 10 and b > 5) # ❌ False (one condition is False)\n",
        "\n",
        "ii.  or (Logical OR)\n",
        "Returns True if at least one condition is True.\n",
        "\n",
        "Returns False only if both conditions are False.\n",
        "\n",
        "example:\n",
        "a = 5\n",
        "b = 10\n",
        "print(a > 10 or b > 5)  # ✅ True (one condition is True)\n",
        "print(a > 10 or b < 5)  # ❌ False (both conditions are False)\n",
        "\n",
        "9. What is type casting in Python?\n",
        "\n",
        "  - Type casting (or type conversion) is the process of converting one data type into another. Python provides two types of type casting:\n",
        "\n",
        "Implicit Type Casting (Automatic Conversion)\n",
        "\n",
        "Explicit Type Casting (Manual Conversion)\n",
        "\n",
        "\n",
        "10. What is the difference between implicit and explicit type casting?\n",
        "\n",
        "    - The difference between implicit and explicit type casting are as follows :\n",
        "    i. Implicit Type Casting (Automatic)\n",
        "Python automatically converts a smaller data type into a larger data type when needed, without loss of data.\n",
        "\n",
        "example:\n",
        "a = 10    # Integer\n",
        "b = 2.5   # Float\n",
        "\n",
        "result = a + b  # Integer + Float → Converted to Float\n",
        "print(result)   # Output: 12.5\n",
        "print(type(result))  # Output: <class 'float'>\n",
        "\n",
        "ii.  Explicit Type Casting (Manual)\n",
        "Done manually using built-in functions like int(), float(), str(), list(), etc.\n",
        "\n",
        "Used when automatic conversion is not possible or not desired.\n",
        "\n",
        "11. What is the purpose of conditional statements in Python?\n",
        "    - Purpose of Conditional Statements in Python\n",
        "Conditional statements are used to make decisions in a program based on certain conditions. They allow the program to execute different blocks of code depending on whether a condition is True or False.\n",
        "\n",
        "12. How does the elif statement work ?\n",
        "\n",
        "    - The elif (else if) statement is used when you need to check multiple conditions in sequence. It allows the program to test one condition at a time, executing the block of code for the first condition that is True.\n",
        "    \n",
        "    syntax:\n",
        "    \n",
        "   if condition1:\n",
        "    # Code block 1 (executes if condition1 is True)\n",
        "elif condition2:\n",
        "    # Code block 2 (executes if condition2 is True and condition1 is False)\n",
        "elif condition3:\n",
        "    # Code block 3 (executes if condition3 is True and previous conditions are False)\n",
        "else:\n",
        "    # Code block 4 (executes if all conditions are False)\n",
        "\n",
        "13. What is the difference between for and while loops?\n",
        "\n",
        "    -f Difference Between for and while Loops in Python\n",
        "i. for Loop\n",
        "Used when the number of iterations is known.\n",
        "\n",
        "Iterates over a sequence (list, tuple, range, string, etc.).\n",
        "\n",
        "Automatically stops when it reaches the end of the sequence.\n",
        "\n",
        "example:\n",
        "for i in range(1, 6):  \n",
        "    print(i)  \n",
        "\n",
        "ii.  while Loop\n",
        "Used when the number of iterations is unknown.\n",
        "\n",
        "Runs until a condition becomes False.\n",
        "\n",
        "Can lead to infinite loops if the condition is never met.\n",
        "\n",
        "example:\n",
        "i = 1\n",
        "while i <= 5:  \n",
        "    print(i)  \n",
        "    i += 1  # Increment to avoid infinite loop  \n",
        "14.  Describe a scenario where a while loop is more suitable than a for loop.\n",
        "\n",
        "    - Scenario Where a while Loop is More Suitable Than a for Loop\n",
        "Scenario: User Login System (Unlimited Attempts Until Correct Password)\n",
        "A while loop is better when the number of iterations is not fixed and depends on a condition.\n",
        "\n",
        "✅ Example:\n",
        "Imagine a program that asks a user to enter a correct password. The program should keep asking until the user enters the right password. Here, we don't know in advance how many times the user will enter the wrong password.\n",
        "\n",
        "example:\n",
        "\n",
        "correct_password = \"python123\"\n",
        "user_input = \"\"\n",
        "\n",
        "while user_input != correct_password:  # Runs until correct password is entered\n",
        "    user_input = input(\"Enter your password: \")\n",
        "\n",
        "print(\"Login successful!\")\n"
      ],
      "metadata": {
        "id": "ZgA7YjO9gLTe"
      }
    },
    {
      "cell_type": "markdown",
      "source": [
        "#Practical Questions"
      ],
      "metadata": {
        "id": "ONPaYrszLjaY"
      }
    },
    {
      "cell_type": "code",
      "source": [
        "# 1. Write a Python program to print \"Hello, World!_\n",
        "print(\"hello, world!_\")"
      ],
      "metadata": {
        "colab": {
          "base_uri": "https://localhost:8080/"
        },
        "id": "8PTKETdiMNa4",
        "outputId": "8efdad30-e91f-4bf7-d422-81c92e9e6565"
      },
      "execution_count": 1,
      "outputs": [
        {
          "output_type": "stream",
          "name": "stdout",
          "text": [
            "hello, world!_\n"
          ]
        }
      ]
    },
    {
      "cell_type": "code",
      "source": [
        "# 2. Write a Python program that displays your name and age.\n",
        "print(\"my name is Milan\")\n",
        "print(\"iam 30 years old\")"
      ],
      "metadata": {
        "colab": {
          "base_uri": "https://localhost:8080/"
        },
        "id": "Gcf51P14M1gI",
        "outputId": "3961883a-57ea-4012-839b-f2d784c48829"
      },
      "execution_count": 2,
      "outputs": [
        {
          "output_type": "stream",
          "name": "stdout",
          "text": [
            "my name is Milan\n",
            "iam 30 years old\n"
          ]
        }
      ]
    },
    {
      "cell_type": "code",
      "source": [
        "# 3.Write code to print all the pre-defined keywords in Python using the keyword library.\n",
        "\n",
        "import keyword\n",
        "\n",
        "# Get the list of Python keywords\n",
        "keywords = keyword.kwlist\n",
        "\n",
        "# Print the keywords\n",
        "print(\"Python Keywords:\")\n",
        "for kw in keywords:\n",
        "    print(kw)\n"
      ],
      "metadata": {
        "colab": {
          "base_uri": "https://localhost:8080/"
        },
        "id": "tkso0so5NWUj",
        "outputId": "130a9a5d-9e82-4750-ad71-c245db918fc8"
      },
      "execution_count": 6,
      "outputs": [
        {
          "output_type": "stream",
          "name": "stdout",
          "text": [
            "Python Keywords:\n",
            "False\n",
            "None\n",
            "True\n",
            "and\n",
            "as\n",
            "assert\n",
            "async\n",
            "await\n",
            "break\n",
            "class\n",
            "continue\n",
            "def\n",
            "del\n",
            "elif\n",
            "else\n",
            "except\n",
            "finally\n",
            "for\n",
            "from\n",
            "global\n",
            "if\n",
            "import\n",
            "in\n",
            "is\n",
            "lambda\n",
            "nonlocal\n",
            "not\n",
            "or\n",
            "pass\n",
            "raise\n",
            "return\n",
            "try\n",
            "while\n",
            "with\n",
            "yield\n"
          ]
        }
      ]
    },
    {
      "cell_type": "code",
      "source": [
        "# 4. Write a program that checks if a given word is a Python keyword.\n",
        "\n",
        "import keyword\n",
        "\n",
        "word = input(\"Enter a word: \")\n",
        "\n",
        "if keyword.iskeyword(word):\n",
        "    print(f\"'{word}' is a Python keyword.\")\n",
        "else:\n",
        "    print(f\"'{word}' is NOT a Python keyword.\")\n",
        "\n"
      ],
      "metadata": {
        "colab": {
          "base_uri": "https://localhost:8080/"
        },
        "id": "bndN8jzYOn5I",
        "outputId": "23ac412d-c1ce-41f2-df9b-78c0eb3a0e79"
      },
      "execution_count": 7,
      "outputs": [
        {
          "output_type": "stream",
          "name": "stdout",
          "text": [
            "Enter a word: milan\n",
            "'milan' is NOT a Python keyword.\n"
          ]
        }
      ]
    },
    {
      "cell_type": "markdown",
      "source": [],
      "metadata": {
        "id": "hc6OWUBIPyPE"
      }
    },
    {
      "cell_type": "code",
      "source": [
        "'''\n",
        "5. Create a list and tuple in Python, and demonstrate how attempting to change an element works differently\n",
        "for each\n",
        "'''\n",
        "# Creating a list\n",
        "my_list = [1, 2, 3]\n",
        "print(\"Original List:\", my_list)\n",
        "\n",
        "# Modifying an element in the list (Allowed)\n",
        "my_list[1] = 99\n",
        "print(\"Modified List:\", my_list)\n",
        "\n",
        "# Creating a tuple\n",
        "my_tuple = (1, 2, 3)\n",
        "print(\"\\nOriginal Tuple:\", my_tuple)\n",
        "\n",
        "# Attempting to modify an element in the tuple (Not Allowed)\n",
        "try:\n",
        "    my_tuple[1] = 99  # This will cause an error\n",
        "except TypeError as e:\n",
        "    print(\"Error:\", e)\n"
      ],
      "metadata": {
        "colab": {
          "base_uri": "https://localhost:8080/"
        },
        "id": "SUPL-WVHRYrd",
        "outputId": "edb70183-4d93-4d2e-fe5f-bb320f465ee0"
      },
      "execution_count": 8,
      "outputs": [
        {
          "output_type": "stream",
          "name": "stdout",
          "text": [
            "Original List: [1, 2, 3]\n",
            "Modified List: [1, 99, 3]\n",
            "\n",
            "Original Tuple: (1, 2, 3)\n",
            "Error: 'tuple' object does not support item assignment\n"
          ]
        }
      ]
    },
    {
      "cell_type": "code",
      "source": [
        "# 6. Write a function to demonstrate the behavior of mutable and immutable arguments\n",
        "\n",
        "def modify_values(num, lst):\n",
        "    num = num + 10  # Changing the integer (immutable)\n",
        "    lst.append(4)   # Modifying the list (mutable)\n",
        "\n",
        "# Immutable Example\n",
        "x = 5\n",
        "my_list = [1, 2, 3]\n",
        "\n",
        "print(\"Before function call:\")\n",
        "print(\"x:\", x)\n",
        "print(\"my_list:\", my_list)\n",
        "\n",
        "modify_values(x, my_list)\n",
        "\n",
        "print(\"\\nAfter function call:\")\n",
        "print(\"x:\", x)         # Unchanged (immutable)\n",
        "print(\"my_list:\", my_list)  # Changed (mutable)\n",
        "\n"
      ],
      "metadata": {
        "colab": {
          "base_uri": "https://localhost:8080/"
        },
        "id": "5f4U9eHgRgfW",
        "outputId": "4d13b35d-931a-4d59-a51a-3692c58b8cf0"
      },
      "execution_count": 9,
      "outputs": [
        {
          "output_type": "stream",
          "name": "stdout",
          "text": [
            "Before function call:\n",
            "x: 5\n",
            "my_list: [1, 2, 3]\n",
            "\n",
            "After function call:\n",
            "x: 5\n",
            "my_list: [1, 2, 3, 4]\n"
          ]
        }
      ]
    },
    {
      "cell_type": "code",
      "source": [
        "# 7. Write a program to demonstrate the use of logical operators\n",
        "\n",
        "a = True\n",
        "b = False\n",
        "\n",
        "# Using 'and' operator\n",
        "print(\"a and b:\", a and b)  # False (both must be True)\n",
        "\n",
        "# Using 'or' operator\n",
        "print(\"a or b:\", a or b)    # True (at least one must be True)\n",
        "\n",
        "# Using 'not' operator\n",
        "print(\"not a:\", not a)      # False (negates the value)\n",
        "print(\"not b:\", not b)      # True\n"
      ],
      "metadata": {
        "colab": {
          "base_uri": "https://localhost:8080/"
        },
        "id": "bpMLV_sLSVpv",
        "outputId": "3aa4c7b4-b153-4a9f-81bc-5c9e864ebed4"
      },
      "execution_count": 10,
      "outputs": [
        {
          "output_type": "stream",
          "name": "stdout",
          "text": [
            "a and b: False\n",
            "a or b: True\n",
            "not a: False\n",
            "not b: True\n"
          ]
        }
      ]
    },
    {
      "cell_type": "code",
      "source": [
        "# 8. Write a Python program to convert user input from string to integer, float, and boolean types.\n",
        "\n",
        "# Take user input as a string\n",
        "user_input = input(\"Enter a value: \")\n",
        "\n",
        "# Convert to integer\n",
        "int_value = int(user_input)\n",
        "print(\"Integer:\", int_value)\n",
        "\n",
        "# Convert to float\n",
        "float_value = float(user_input)\n",
        "print(\"Float:\", float_value)\n",
        "\n",
        "# Convert to boolean\n",
        "bool_value = bool(user_input)\n",
        "print(\"Boolean:\", bool_value)\n"
      ],
      "metadata": {
        "colab": {
          "base_uri": "https://localhost:8080/"
        },
        "id": "W2K2g5F9TU9b",
        "outputId": "b42dda07-c399-4f6b-d570-5d137b114df4"
      },
      "execution_count": 11,
      "outputs": [
        {
          "output_type": "stream",
          "name": "stdout",
          "text": [
            "Enter a value: 9\n",
            "Integer: 9\n",
            "Float: 9.0\n",
            "Boolean: True\n"
          ]
        }
      ]
    },
    {
      "cell_type": "code",
      "source": [
        "# 10. Write code to demonstrate type casting with list elements.\n",
        "# List with string numbers\n",
        "str_list = [\"10\", \"20\", \"30\"]\n",
        "\n",
        "# Convert list elements to integers\n",
        "int_list = [int(x) for x in str_list]\n",
        "print(\"Integer List:\", int_list)\n",
        "\n",
        "# Convert list elements to floats\n",
        "float_list = [float(x) for x in str_list]\n",
        "print(\"Float List:\", float_list)\n",
        "\n",
        "# Convert list elements to boolean\n",
        "bool_list = [bool(x) for x in str_list]\n",
        "print(\"Boolean List:\", bool_list)\n"
      ],
      "metadata": {
        "colab": {
          "base_uri": "https://localhost:8080/"
        },
        "id": "1FyLEt9JbhDr",
        "outputId": "fd28b4f6-fb1d-4d5f-a9eb-38fd911e9615"
      },
      "execution_count": 12,
      "outputs": [
        {
          "output_type": "stream",
          "name": "stdout",
          "text": [
            "Integer List: [10, 20, 30]\n",
            "Float List: [10.0, 20.0, 30.0]\n",
            "Boolean List: [True, True, True]\n"
          ]
        }
      ]
    },
    {
      "cell_type": "code",
      "source": [
        "# 11. Write a program that checks if a number is positive, negative, or zero\n",
        "\n",
        "# Take input from the user\n",
        "num = float(input(\"Enter a number: \"))\n",
        "\n",
        "# Check conditions\n",
        "if num > 0:\n",
        "    print(\"The number is Positive.\")\n",
        "elif num < 0:\n",
        "    print(\"The number is Negative.\")\n",
        "else:\n",
        "    print(\"The number is Zero.\")\n"
      ],
      "metadata": {
        "colab": {
          "base_uri": "https://localhost:8080/"
        },
        "id": "XBJupKQncMIX",
        "outputId": "52b148a4-dea5-4b52-b260-2c79e322c1e7"
      },
      "execution_count": 13,
      "outputs": [
        {
          "output_type": "stream",
          "name": "stdout",
          "text": [
            "Enter a number: 2\n",
            "The number is Positive.\n"
          ]
        }
      ]
    },
    {
      "cell_type": "code",
      "source": [
        "# 12. Write a for loop to print numbers from 1 to 100\n",
        "\n",
        "for num in range(1, 101):\n",
        "    print(num)\n"
      ],
      "metadata": {
        "colab": {
          "base_uri": "https://localhost:8080/"
        },
        "id": "83jrkROwc2J_",
        "outputId": "cfb41804-4b6d-4a66-d5a6-bd3390a2885e"
      },
      "execution_count": 14,
      "outputs": [
        {
          "output_type": "stream",
          "name": "stdout",
          "text": [
            "1\n",
            "2\n",
            "3\n",
            "4\n",
            "5\n",
            "6\n",
            "7\n",
            "8\n",
            "9\n",
            "10\n",
            "11\n",
            "12\n",
            "13\n",
            "14\n",
            "15\n",
            "16\n",
            "17\n",
            "18\n",
            "19\n",
            "20\n",
            "21\n",
            "22\n",
            "23\n",
            "24\n",
            "25\n",
            "26\n",
            "27\n",
            "28\n",
            "29\n",
            "30\n",
            "31\n",
            "32\n",
            "33\n",
            "34\n",
            "35\n",
            "36\n",
            "37\n",
            "38\n",
            "39\n",
            "40\n",
            "41\n",
            "42\n",
            "43\n",
            "44\n",
            "45\n",
            "46\n",
            "47\n",
            "48\n",
            "49\n",
            "50\n",
            "51\n",
            "52\n",
            "53\n",
            "54\n",
            "55\n",
            "56\n",
            "57\n",
            "58\n",
            "59\n",
            "60\n",
            "61\n",
            "62\n",
            "63\n",
            "64\n",
            "65\n",
            "66\n",
            "67\n",
            "68\n",
            "69\n",
            "70\n",
            "71\n",
            "72\n",
            "73\n",
            "74\n",
            "75\n",
            "76\n",
            "77\n",
            "78\n",
            "79\n",
            "80\n",
            "81\n",
            "82\n",
            "83\n",
            "84\n",
            "85\n",
            "86\n",
            "87\n",
            "88\n",
            "89\n",
            "90\n",
            "91\n",
            "92\n",
            "93\n",
            "94\n",
            "95\n",
            "96\n",
            "97\n",
            "98\n",
            "99\n",
            "100\n"
          ]
        }
      ]
    },
    {
      "cell_type": "code",
      "source": [
        "# 13. Write a Python program to find the sum of all even numbers between 1 and 500.\n",
        "\n",
        "# Using a for loop to sum even numbers\n",
        "total = 0\n",
        "\n",
        "for num in range(2, 501, 2):  # Start from 2, step by 2 (even numbers)\n",
        "    total += num\n",
        "\n",
        "print(\"Sum of even numbers from 1 to 500:\", total)\n"
      ],
      "metadata": {
        "colab": {
          "base_uri": "https://localhost:8080/"
        },
        "id": "7k3wzc_3dSWH",
        "outputId": "4ebc6fa7-51a4-4168-8e13-781080da40db"
      },
      "execution_count": 15,
      "outputs": [
        {
          "output_type": "stream",
          "name": "stdout",
          "text": [
            "Sum of even numbers from 1 to 500: 62750\n"
          ]
        }
      ]
    },
    {
      "cell_type": "code",
      "source": [
        "# 14. Write a program to reverse a string using a while loop.\n",
        "# Take user input\n",
        "text = input(\"Enter a string: \")\n",
        "\n",
        "# Initialize variables\n",
        "reversed_text = \"\"\n",
        "i = len(text) - 1  # Start from the last index\n",
        "\n",
        "# Loop to reverse the string\n",
        "while i >= 0:\n",
        "    reversed_text += text[i]  # Add characters in reverse order\n",
        "    i -= 1  # Move to the previous character\n",
        "\n",
        "# Print the reversed string\n",
        "print(\"Reversed String:\", reversed_text)\n"
      ],
      "metadata": {
        "colab": {
          "base_uri": "https://localhost:8080/"
        },
        "id": "Ih5GsNXpdq1C",
        "outputId": "caef5c29-f3fc-4741-92f5-0464c9c0bb66"
      },
      "execution_count": 16,
      "outputs": [
        {
          "output_type": "stream",
          "name": "stdout",
          "text": [
            "Enter a string: milan\n",
            "Reversed String: nalim\n"
          ]
        }
      ]
    },
    {
      "cell_type": "code",
      "source": [
        "# 15. Write a Python program to calculate the factorial of a number provided by the user using a while loop.\n",
        "\n",
        "# Take user input\n",
        "num = int(input(\"Enter a number: \"))\n",
        "\n",
        "# Initialize variables\n",
        "factorial = 1\n",
        "i = num\n",
        "\n",
        "# Calculate factorial using while loop\n",
        "while i > 0:\n",
        "    factorial *= i  # Multiply i with factorial\n",
        "    i -= 1  # Decrease i by 1\n",
        "\n",
        "# Print the result\n",
        "print(\"Factorial of\", num, \"is\", factorial)\n"
      ],
      "metadata": {
        "colab": {
          "base_uri": "https://localhost:8080/"
        },
        "id": "tbfoYhbeeHl5",
        "outputId": "f89107e6-7268-4e0b-a2a0-f87eb476dfa5"
      },
      "execution_count": 17,
      "outputs": [
        {
          "output_type": "stream",
          "name": "stdout",
          "text": [
            "Enter a number: 4\n",
            "Factorial of 4 is 24\n"
          ]
        }
      ]
    },
    {
      "cell_type": "code",
      "source": [],
      "metadata": {
        "id": "6U-OEhGqd-PE"
      },
      "execution_count": null,
      "outputs": []
    }
  ]
}